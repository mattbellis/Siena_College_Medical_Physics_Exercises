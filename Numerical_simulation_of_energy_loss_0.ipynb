{
 "cells": [
  {
   "cell_type": "markdown",
   "metadata": {},
   "source": [
    "**Question 1**\n",
    "\n",
    "Consider a proton with momentum of 500 MeV/c (0.5 GeV/c) that is passing through water. Suppose that this proton loses 1.5 MeV of energy for every cm of water it travels through. \n",
    "\n",
    "How far does the proton go before it loses all its energy. Solve this problem analytically. "
   ]
  },
  {
   "cell_type": "markdown",
   "metadata": {},
   "source": [
    "Your code here..."
   ]
  },
  {
   "cell_type": "markdown",
   "metadata": {},
   "source": [
    "**Question 2**\n",
    "\n",
    "Let's solve the problem a different way. At first this way will seem much more difficult, but it actually makes later calculations more tractable. \n",
    "\n",
    "* Calculate the velocity of the proton, given its momentum. \n",
    "* Choose a small interval of time. I leave it up to you, but it will probably be quite small. A first guess might be a microsecond. \n",
    "* Calculate how far the proton travels in that interval of time. \n",
    "* Calculate the amount of energy the proton loses, traveling that distance. \n",
    "* Recalculate the energy, momentum, and velocity of the proton. \n",
    "* Repeat the above procedure until the proton has come to a stop. *Be careful!* It's possible to choose time steps so that the proton never comes to a complete stop! (See [Zeno's paradox](https://en.wikipedia.org/wiki/Zeno's_paradoxes#Achilles_and_the_tortoise)) You might want to decide on a minimum value for the speed, before it stops running. \n",
    "\n",
    "Do you get the same answer as when you did the analytic calculation in Question 1?\n",
    "\n",
    "When you're done with this, make a plot of the...\n",
    "\n",
    "* Momentum of the proton versus time (numerical approach)\n",
    "* Momentum of the proton versus distance (numerical approach)\n",
    "* Momentum of the proton versus distance (analytic approach)\n"
   ]
  },
  {
   "cell_type": "code",
   "execution_count": null,
   "metadata": {
    "collapsed": true
   },
   "outputs": [],
   "source": [
    "# Your code here"
   ]
  },
  {
   "cell_type": "code",
   "execution_count": null,
   "metadata": {
    "collapsed": true
   },
   "outputs": [],
   "source": []
  }
 ],
 "metadata": {
  "anaconda-cloud": {},
  "kernelspec": {
   "display_name": "Python 2",
   "language": "python",
   "name": "python2"
  },
  "language_info": {
   "codemirror_mode": {
    "name": "ipython",
    "version": 2
   },
   "file_extension": ".py",
   "mimetype": "text/x-python",
   "name": "python",
   "nbconvert_exporter": "python",
   "pygments_lexer": "ipython2",
   "version": "2.7.12"
  }
 },
 "nbformat": 4,
 "nbformat_minor": 1
}
